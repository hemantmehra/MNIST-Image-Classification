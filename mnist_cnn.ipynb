{
  "nbformat": 4,
  "nbformat_minor": 0,
  "metadata": {
    "colab": {
      "name": "mnist-cnn.ipynb",
      "version": "0.3.2",
      "provenance": [],
      "collapsed_sections": []
    },
    "kernelspec": {
      "name": "python3",
      "display_name": "Python 3"
    },
    "accelerator": "GPU"
  },
  "cells": [
    {
      "metadata": {
        "id": "PpTumz3sNWKm",
        "colab_type": "text"
      },
      "cell_type": "markdown",
      "source": [
        "# MNIST with CNN"
      ]
    },
    {
      "metadata": {
        "id": "fa-GeL15Oz6P",
        "colab_type": "code",
        "colab": {}
      },
      "cell_type": "code",
      "source": [
        "import keras\n",
        "from keras.datasets import mnist\n",
        "from keras.models import Sequential\n",
        "from keras.layers import Dense, Dropout, Flatten\n",
        "from keras.layers import Conv2D, MaxPooling2D\n",
        "from keras import backend as K"
      ],
      "execution_count": 0,
      "outputs": []
    },
    {
      "metadata": {
        "id": "h-dfJ71xPTmU",
        "colab_type": "code",
        "colab": {}
      },
      "cell_type": "code",
      "source": [
        "batch_size = 128\n",
        "num_classes = 10\n",
        "epochs = 12\n",
        "\n",
        "# input image dimensions\n",
        "img_rows, img_cols = 28, 28"
      ],
      "execution_count": 0,
      "outputs": []
    },
    {
      "metadata": {
        "id": "oKVKPSC7Pp4B",
        "colab_type": "code",
        "colab": {}
      },
      "cell_type": "code",
      "source": [
        "# data\n",
        "(x_train, y_train), (x_test, y_test) = mnist.load_data()"
      ],
      "execution_count": 0,
      "outputs": []
    },
    {
      "metadata": {
        "id": "Sm02Yo5_Pw3v",
        "colab_type": "code",
        "colab": {}
      },
      "cell_type": "code",
      "source": [
        "if K.image_data_format() == 'channels_first':\n",
        "    x_train = x_train.reshape(x_train.shape[0], 1, img_rows, img_cols)\n",
        "    x_test = x_test.reshape(x_test.shape[0], 1, img_rows, img_cols)\n",
        "    input_shape = (1, img_rows, img_cols)\n",
        "else:\n",
        "    x_train = x_train.reshape(x_train.shape[0], img_rows, img_cols, 1)\n",
        "    x_test = x_test.reshape(x_test.shape[0], img_rows, img_cols, 1)\n",
        "    input_shape = (img_rows, img_cols, 1)"
      ],
      "execution_count": 0,
      "outputs": []
    },
    {
      "metadata": {
        "id": "Q6NBvLdSP7lX",
        "colab_type": "code",
        "colab": {
          "base_uri": "https://localhost:8080/",
          "height": 51
        },
        "outputId": "5028e466-fb87-421f-f2ce-cc8b71d71a07"
      },
      "cell_type": "code",
      "source": [
        "x_train = x_train.astype('float32')\n",
        "x_test  = x_test.astype('float32')\n",
        "x_train /= 255\n",
        "x_test /= 255\n",
        "print('x_train shape', x_train.shape)\n",
        "print('x_test_shape', x_test.shape)"
      ],
      "execution_count": 20,
      "outputs": [
        {
          "output_type": "stream",
          "text": [
            "x_train shape (60000, 28, 28, 1)\n",
            "x_test_shape (10000, 28, 28, 1)\n"
          ],
          "name": "stdout"
        }
      ]
    },
    {
      "metadata": {
        "id": "L60uXWE6QhaW",
        "colab_type": "code",
        "colab": {
          "base_uri": "https://localhost:8080/",
          "height": 34
        },
        "outputId": "a27d2627-fcec-497b-c3ec-91a85c3c5d75"
      },
      "cell_type": "code",
      "source": [
        "# convert class vectors to binary class matrices\n",
        "y_train = keras.utils.to_categorical(y_train, num_classes)\n",
        "y_test = keras.utils.to_categorical(y_test, num_classes)\n",
        "print('Example:', y_train[0])"
      ],
      "execution_count": 21,
      "outputs": [
        {
          "output_type": "stream",
          "text": [
            "Example: [0. 0. 0. 0. 0. 1. 0. 0. 0. 0.]\n"
          ],
          "name": "stdout"
        }
      ]
    },
    {
      "metadata": {
        "id": "DJpaYXdzRWz5",
        "colab_type": "text"
      },
      "cell_type": "markdown",
      "source": [
        "## Build Model"
      ]
    },
    {
      "metadata": {
        "id": "j-6gbMjIRRlg",
        "colab_type": "code",
        "colab": {}
      },
      "cell_type": "code",
      "source": [
        "'''\n",
        "Conv2D (32) 3*3 -> relu -> Conv2D (64) 3*3 -> relu -> MaxPooling 2*2\n",
        "-> Dropout(0.25) -> Flattern -> Dense (128) Relu -> Dropout(0.5)\n",
        "-> Softmax (10)\n",
        "'''\n",
        "model = Sequential()\n",
        "model.add(Conv2D(32, kernel_size=(3, 3),\n",
        "                 activation='relu',\n",
        "                 input_shape=input_shape))\n",
        "model.add(Conv2D(64, (3, 3), activation='relu'))\n",
        "model.add(MaxPooling2D(pool_size=(2, 2)))\n",
        "model.add(Dropout(0.25))\n",
        "model.add(Flatten())\n",
        "model.add(Dense(128, activation='relu'))\n",
        "model.add(Dropout(0.5))\n",
        "model.add(Dense(num_classes, activation='softmax'))"
      ],
      "execution_count": 0,
      "outputs": []
    },
    {
      "metadata": {
        "id": "7OVFrNhaUcEA",
        "colab_type": "text"
      },
      "cell_type": "markdown",
      "source": [
        "## Compile Model"
      ]
    },
    {
      "metadata": {
        "id": "9PX5mZkwUbsS",
        "colab_type": "code",
        "colab": {}
      },
      "cell_type": "code",
      "source": [
        "model.compile(loss=keras.losses.categorical_crossentropy,\n",
        "              optimizer=keras.optimizers.Adam(),\n",
        "              metrics=['accuracy'])"
      ],
      "execution_count": 0,
      "outputs": []
    },
    {
      "metadata": {
        "id": "wYAQOUi2U1CN",
        "colab_type": "text"
      },
      "cell_type": "markdown",
      "source": [
        "## Train Model"
      ]
    },
    {
      "metadata": {
        "id": "kZNjcr7jU4Pm",
        "colab_type": "code",
        "colab": {
          "base_uri": "https://localhost:8080/",
          "height": 2948
        },
        "outputId": "bebd7164-2379-4ccb-9549-369057f728af"
      },
      "cell_type": "code",
      "source": [
        "model.fit(x_train, y_train,\n",
        "          batch_size=batch_size,\n",
        "          epochs=epochs,\n",
        "          verbose=1,\n",
        "          validation_data=(x_test, y_test))"
      ],
      "execution_count": 25,
      "outputs": [
        {
          "output_type": "stream",
          "text": [
            "Train on 60000 samples, validate on 10000 samples\n",
            "Epoch 1/12\n",
            "60000/60000 [==============================] - 12s 192us/step - loss: 0.2421 - acc: 0.9259 - val_loss: 0.0556 - val_acc: 0.9828\n",
            "Epoch 2/12\n",
            "60000/60000 [==============================] - 10s 162us/step - loss: 0.0874 - acc: 0.9741 - val_loss: 0.0479 - val_acc: 0.9846\n",
            "Epoch 3/12\n",
            "29312/60000 [=============>................] - ETA: 4s - loss: 0.0674 - acc: 0.9792"
          ],
          "name": "stdout"
        },
        {
          "output_type": "stream",
          "text": [
            "60000/60000 [==============================] - 10s 161us/step - loss: 0.0641 - acc: 0.9802 - val_loss: 0.0406 - val_acc: 0.9862\n",
            "Epoch 4/12\n",
            "60000/60000 [==============================] - 10s 162us/step - loss: 0.0540 - acc: 0.9835 - val_loss: 0.0349 - val_acc: 0.9884\n",
            "Epoch 5/12\n",
            "60000/60000 [==============================] - 10s 163us/step - loss: 0.0436 - acc: 0.9865 - val_loss: 0.0308 - val_acc: 0.9900\n",
            "Epoch 6/12\n",
            "  512/60000 [..............................] - ETA: 9s - loss: 0.0375 - acc: 0.9902 "
          ],
          "name": "stdout"
        },
        {
          "output_type": "stream",
          "text": [
            "60000/60000 [==============================] - 10s 162us/step - loss: 0.0407 - acc: 0.9873 - val_loss: 0.0335 - val_acc: 0.9890\n",
            "Epoch 7/12\n",
            "60000/60000 [==============================] - 10s 162us/step - loss: 0.0359 - acc: 0.9888 - val_loss: 0.0337 - val_acc: 0.9905\n",
            "Epoch 8/12\n",
            "55040/60000 [==========================>...] - ETA: 0s - loss: 0.0310 - acc: 0.9902"
          ],
          "name": "stdout"
        },
        {
          "output_type": "stream",
          "text": [
            "60000/60000 [==============================] - 10s 162us/step - loss: 0.0312 - acc: 0.9902 - val_loss: 0.0317 - val_acc: 0.9906\n",
            "Epoch 9/12\n",
            "60000/60000 [==============================] - 10s 163us/step - loss: 0.0289 - acc: 0.9909 - val_loss: 0.0321 - val_acc: 0.9911\n",
            "Epoch 10/12\n",
            "60000/60000 [==============================] - 10s 162us/step - loss: 0.0266 - acc: 0.9912 - val_loss: 0.0269 - val_acc: 0.9931\n",
            "Epoch 11/12\n",
            " 4736/60000 [=>............................] - ETA: 8s - loss: 0.0190 - acc: 0.9937"
          ],
          "name": "stdout"
        },
        {
          "output_type": "stream",
          "text": [
            "60000/60000 [==============================] - 10s 162us/step - loss: 0.0245 - acc: 0.9924 - val_loss: 0.0316 - val_acc: 0.9908\n",
            "Epoch 12/12\n",
            "60000/60000 [==============================] - 10s 163us/step - loss: 0.0240 - acc: 0.9927 - val_loss: 0.0307 - val_acc: 0.9916\n"
          ],
          "name": "stdout"
        },
        {
          "output_type": "execute_result",
          "data": {
            "text/plain": [
              "<keras.callbacks.History at 0x7f1228e4c5c0>"
            ]
          },
          "metadata": {
            "tags": []
          },
          "execution_count": 25
        }
      ]
    },
    {
      "metadata": {
        "id": "-MY8yLjuVrBh",
        "colab_type": "code",
        "colab": {
          "base_uri": "https://localhost:8080/",
          "height": 51
        },
        "outputId": "956a089c-9816-4714-b2c1-ac26c368ad72"
      },
      "cell_type": "code",
      "source": [
        "score = model.evaluate(x_test, y_test, verbose=0)\n",
        "print('Test loss:', score[0])\n",
        "print('Test accuracy:', score[1])"
      ],
      "execution_count": 26,
      "outputs": [
        {
          "output_type": "stream",
          "text": [
            "Test loss: 0.03073413979740226\n",
            "Test accuracy: 0.9916\n"
          ],
          "name": "stdout"
        }
      ]
    }
  ]
}